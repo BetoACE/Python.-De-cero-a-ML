{
  "nbformat": 4,
  "nbformat_minor": 0,
  "metadata": {
    "colab": {
      "provenance": [],
      "authorship_tag": "ABX9TyNJ+NoI9NT0PQJzFZBOQJ+P",
      "include_colab_link": true
    },
    "kernelspec": {
      "name": "python3",
      "display_name": "Python 3"
    },
    "language_info": {
      "name": "python"
    }
  },
  "cells": [
    {
      "cell_type": "markdown",
      "metadata": {
        "id": "view-in-github",
        "colab_type": "text"
      },
      "source": [
        "<a href=\"https://colab.research.google.com/github/BetoACE/Python.-De-cero-a-ML/blob/main/Regresi%C3%B3n_Lineal_Simple_ML_UNAM.ipynb\" target=\"_parent\"><img src=\"https://colab.research.google.com/assets/colab-badge.svg\" alt=\"Open In Colab\"/></a>"
      ]
    },
    {
      "cell_type": "markdown",
      "source": [
        "# Como funciona la Regresión Lineal\n",
        "\n",
        "La idea detrás de la regresión lineal es encontrar una línea recta que mejor se ajuste a los datos.\n",
        "Esto se hace utilizando la ecuación de la recta, y = mx + b,\n",
        "donde m es el coeficiente de la variable independiente (o también conocida como la \"pendiente\", x es el valor de la variable independiente y b es el término de intercepción.\n",
        "\n",
        "La regresión lineal es útil cuando se cree que existe una relación lineal entre las variables. Sin embargo, tenga en cuenta que la regresión lineal no es adecuada para modelar relaciones no lineales\n"
      ],
      "metadata": {
        "id": "8Lx0Wu6sfLTJ"
      }
    },
    {
      "cell_type": "markdown",
      "source": [
        "#Descripción de la tarea:\n",
        "Una empresa ha facilitado las inversiones y las ventas obtenidas desde el año 1980 hasta 2017.\n",
        "\n",
        "Toca realizar las siguientes tareas:\n",
        "\n",
        "Ajustar un modelo de regresión lineal. Obtener una estimación de los parámetros del modelo y su interpretación.\n",
        "¿Cuántas ventas se obtendrían si se invirtiesen 7 millones de euros?\n",
        "Evaluar el modelo a través de la SCE y el coeficiente de determinación (R2)"
      ],
      "metadata": {
        "id": "eZbtMyjJfw7K"
      }
    },
    {
      "cell_type": "code",
      "execution_count": null,
      "metadata": {
        "id": "tWyzDCiOc_tf"
      },
      "outputs": [],
      "source": [
        "#Carga y análisis de la Data\n",
        "\n",
        "url = 'https://raw.githubusercontent.com/md-lorente/data/master/datos_ventas.csv'\n"
      ]
    },
    {
      "cell_type": "markdown",
      "source": [
        "Importar librerías necesarias"
      ],
      "metadata": {
        "id": "yi6aZ3fxftVZ"
      }
    },
    {
      "cell_type": "code",
      "source": [
        "#Librerias\n",
        "import pandas as pd\n",
        "import matplotlib.pyplot as plt\n",
        "import numpy as np\n",
        "import seaborn as sns\n",
        "import math\n",
        "from scipy.stats.stats import pearsonr\n",
        "\n"
      ],
      "metadata": {
        "colab": {
          "base_uri": "https://localhost:8080/"
        },
        "id": "HCJT0ksudGo6",
        "outputId": "f5e663f7-d183-43f4-be1f-39aa61a784bd"
      },
      "execution_count": null,
      "outputs": [
        {
          "output_type": "stream",
          "name": "stderr",
          "text": [
            "<ipython-input-8-3ff608e9154e>:7: DeprecationWarning: Please import `pearsonr` from the `scipy.stats` namespace; the `scipy.stats.stats` namespace is deprecated and will be removed in SciPy 2.0.0.\n",
            "  from scipy.stats.stats import pearsonr\n"
          ]
        }
      ]
    },
    {
      "cell_type": "code",
      "source": [
        "#Cargar datos\n",
        "\n",
        "df = pd.read_csv(url, sep=';', decimal=',')"
      ],
      "metadata": {
        "id": "OrHYa_rpdNTH"
      },
      "execution_count": null,
      "outputs": []
    },
    {
      "cell_type": "code",
      "source": [
        "#Explorar datos\n",
        "\n",
        "df.describe()\n",
        "df.head(15)\n",
        "df.tail(15)\n",
        "df.info()"
      ],
      "metadata": {
        "colab": {
          "base_uri": "https://localhost:8080/"
        },
        "id": "oShTU1-idhym",
        "outputId": "f8b5b37b-6f50-4f56-f27e-d43760744f34"
      },
      "execution_count": null,
      "outputs": [
        {
          "output_type": "stream",
          "name": "stdout",
          "text": [
            "<class 'pandas.core.frame.DataFrame'>\n",
            "RangeIndex: 38 entries, 0 to 37\n",
            "Data columns (total 3 columns):\n",
            " #   Column       Non-Null Count  Dtype  \n",
            "---  ------       --------------  -----  \n",
            " 0   Fecha_anual  38 non-null     int64  \n",
            " 1   Inversion    38 non-null     float64\n",
            " 2   Ventas       38 non-null     float64\n",
            "dtypes: float64(2), int64(1)\n",
            "memory usage: 1.0 KB\n"
          ]
        }
      ]
    },
    {
      "cell_type": "code",
      "source": [
        "#EDA exploración o Analisis global de datos estadisticos"
      ],
      "metadata": {
        "id": "fTixfoehty4I"
      },
      "execution_count": null,
      "outputs": []
    },
    {
      "cell_type": "code",
      "source": [
        "df.describe(include='float64')\n",
        "\n",
        "print(\"La media de la varaible Inversión es: \", df[\"Inversion\"].median())\n",
        "print(\"La media de la varaible Ventas es: \", df[\"Ventas\"].median())\n",
        "\n",
        "df.isnull().sum()"
      ],
      "metadata": {
        "colab": {
          "base_uri": "https://localhost:8080/",
          "height": 213
        },
        "id": "X8TZ2S5rt39X",
        "outputId": "5a7b110d-6184-43c0-f663-74e1605df18c"
      },
      "execution_count": null,
      "outputs": [
        {
          "output_type": "stream",
          "name": "stdout",
          "text": [
            "La media de la varaible Inversión es:  10.25\n",
            "La media de la varaible Ventas es:  11.079999999999998\n"
          ]
        },
        {
          "output_type": "execute_result",
          "data": {
            "text/plain": [
              "Fecha_anual    0\n",
              "Inversion      0\n",
              "Ventas         0\n",
              "dtype: int64"
            ],
            "text/html": [
              "<div>\n",
              "<style scoped>\n",
              "    .dataframe tbody tr th:only-of-type {\n",
              "        vertical-align: middle;\n",
              "    }\n",
              "\n",
              "    .dataframe tbody tr th {\n",
              "        vertical-align: top;\n",
              "    }\n",
              "\n",
              "    .dataframe thead th {\n",
              "        text-align: right;\n",
              "    }\n",
              "</style>\n",
              "<table border=\"1\" class=\"dataframe\">\n",
              "  <thead>\n",
              "    <tr style=\"text-align: right;\">\n",
              "      <th></th>\n",
              "      <th>0</th>\n",
              "    </tr>\n",
              "  </thead>\n",
              "  <tbody>\n",
              "    <tr>\n",
              "      <th>Fecha_anual</th>\n",
              "      <td>0</td>\n",
              "    </tr>\n",
              "    <tr>\n",
              "      <th>Inversion</th>\n",
              "      <td>0</td>\n",
              "    </tr>\n",
              "    <tr>\n",
              "      <th>Ventas</th>\n",
              "      <td>0</td>\n",
              "    </tr>\n",
              "  </tbody>\n",
              "</table>\n",
              "</div><br><label><b>dtype:</b> int64</label>"
            ]
          },
          "metadata": {},
          "execution_count": 31
        }
      ]
    },
    {
      "cell_type": "markdown",
      "source": [
        "#¡Grafiquémos!"
      ],
      "metadata": {
        "id": "95gjyBstu0B-"
      }
    },
    {
      "cell_type": "code",
      "source": [
        "# df.plot(\n",
        "#     x    = 'Inversion',\n",
        "#     y    = 'Ventas')\n",
        "\n",
        "# sns.scatterplot(x = \"Ventas\", y = \"Inversion\", data = df)\n",
        "\n",
        "# df.plot(\n",
        "#     x    = 'Inversion',\n",
        "#     y    = 'Ventas',\n",
        "#     c    = 'firebrick',\n",
        "#     kind = \"scatter\",\n",
        "\n",
        "# )\n",
        "\n",
        "# plt.scatter(df['Ventas'], df['Inversion'])\n",
        "# plt.xlabel('Ventas')\n",
        "# plt.ylabel('Inversión')\n",
        "# plt.show()\n",
        "\n",
        "\n",
        "sns.boxplot(data=df.drop(columns=[\"Fecha_anual\"]))\n",
        "\n",
        "boxplot = sns.boxplot(x=\"variable\", y=\"value\", data=pd.melt(df), order=[\"Inversion\", \"Ventas\"])"
      ],
      "metadata": {
        "colab": {
          "base_uri": "https://localhost:8080/",
          "height": 449
        },
        "id": "eKascNp4uzGs",
        "outputId": "7c919ee7-67ad-4387-d7b5-6bc469f313e9"
      },
      "execution_count": null,
      "outputs": [
        {
          "output_type": "display_data",
          "data": {
            "text/plain": [
              "<Figure size 640x480 with 1 Axes>"
            ],
            "image/png": "[encoded data removed]"
          },
          "metadata": {}
        }
      ]
    },
    {
      "cell_type": "markdown",
      "source": [
        "#Conceptos elementales de la Regresión Lineal\n",
        "\n",
        "Los principales elementos que hay que interpretar en un modelo de regresión lineal son los coeficientes de los predictores. Recordemos que la ecuación de un modelo de regresión lineal es:\n",
        "\n",
        "y\n",
        "=\n",
        "β\n",
        "0\n",
        "+\n",
        "β\n",
        "j\n",
        "x\n",
        "+\n",
        "e\n",
        "\n",
        "donde:\n",
        "\n",
        "y = variable dependiente o endógena\n",
        "\n",
        "x = variable independiente o explicativa\n",
        "\n",
        "𝛽0, 𝛽𝑗 = parámetros fijos y desconocidos\n",
        "\n",
        "e = termino de error que recoge todos los demás factores que afectan a Y, pero que no están incluidos en el modelo. También puede captar los errores de estimación de la variable dependiente. No observable."
      ],
      "metadata": {
        "id": "3Uqjn_G2diZ7"
      }
    },
    {
      "cell_type": "code",
      "source": [
        "#Análisis entre variables Inversión y Ventas\n",
        "\n",
        "covarianza = df.cov()[\"Inversion\"][\"Ventas\"]\n",
        "\n",
        "print(\"la covarianza entre las variables es de:\", covarianza)"
      ],
      "metadata": {
        "colab": {
          "base_uri": "https://localhost:8080/"
        },
        "id": "tibruQ7sx2Ut",
        "outputId": "12240c92-053e-466a-9d52-a60b98b03af7"
      },
      "execution_count": null,
      "outputs": [
        {
          "output_type": "stream",
          "name": "stdout",
          "text": [
            "la covarianza entre las variables es de: 22.92993243243243\n"
          ]
        }
      ]
    },
    {
      "cell_type": "markdown",
      "source": [
        "Con la covarianza, vemos que la relación es positiva, es decir, presenta una relación directa. Esto implica que a medida que aumentan la inversión, hay una tendencia a que se incrementen las ventas"
      ],
      "metadata": {
        "id": "lbnaSmBLySPy"
      }
    },
    {
      "cell_type": "code",
      "source": [
        "# Correlación lineal entre Inversión y Ventas. Estadístico de correlacion de Pearson\n",
        "\n",
        "corr_test = pearsonr(x = df['Inversion'], y =  df['Ventas'])\n",
        "\n",
        "print(\"la correlación entre las variables es de:\", round(corr_test[0],2))"
      ],
      "metadata": {
        "colab": {
          "base_uri": "https://localhost:8080/"
        },
        "id": "hCYVOoWoyWvq",
        "outputId": "27ca33bd-4eae-4ebd-90a5-eca69a929ab2"
      },
      "execution_count": null,
      "outputs": [
        {
          "output_type": "stream",
          "name": "stdout",
          "text": [
            "la correlación entre las variables es de: 0.96\n"
          ]
        }
      ]
    },
    {
      "cell_type": "markdown",
      "source": [
        "#Código para regresión"
      ],
      "metadata": {
        "id": "rFUIt6GKzobT"
      }
    },
    {
      "cell_type": "code",
      "source": [
        "from scipy import stats as ss\n",
        "\n",
        "#pendiente, coeficiente, pearson, p, error\n",
        "\n",
        "slope, intercept, r, p, se = ss.linregress(df[\"Inversion\"],df[\"Ventas\"])\n",
        "\n",
        "print(f\"Pendiente: {slope}\\nCoeficiente: {intercept}\\nCoeficiente Pearson: {r}\\nP-Values: {p}\\nError: {se}\")\n"
      ],
      "metadata": {
        "colab": {
          "base_uri": "https://localhost:8080/"
        },
        "id": "FlI1-k76zruz",
        "outputId": "fe6c8c24-1b37-4b87-fd7c-8f55fee09129"
      },
      "execution_count": null,
      "outputs": [
        {
          "output_type": "stream",
          "name": "stdout",
          "text": [
            "Pendiente: 0.7426698763540868\n",
            "Coeficiente: 2.8805285042127142\n",
            "Coeficiente Pearson: 0.9562823420491505\n",
            "P-Values: 8.25497955552195e-21\n",
            "Error: 0.0378532029452961\n"
          ]
        }
      ]
    },
    {
      "cell_type": "code",
      "source": [
        "# generar la prediccion\n",
        "\n",
        "def Prediccion_ventas(x):\n",
        "    return intercept + slope*x\n",
        "\n",
        "recta = np.vectorize(Prediccion_ventas)\n",
        "linea = Prediccion_ventas(np.arange(3000))\n",
        "\n",
        "valor_predecir = 7\n",
        "prediccion = intercept + slope * valor_predecir"
      ],
      "metadata": {
        "id": "RSmEI4gG0xWA"
      },
      "execution_count": null,
      "outputs": []
    },
    {
      "cell_type": "code",
      "source": [
        "\n",
        "# labels\n",
        "fig, ax = plt.subplots(figsize=(10,6))\n",
        "plt.title(\"Distribución de Inversión versus Ventas\")\n",
        "plt.xlabel(\"Inversión\")\n",
        "plt.ylabel(\"Ventas\")\n",
        "\n",
        "# limits\n",
        "plt.xlim(df[\"Inversion\"].min() - 2 , df[\"Inversion\"].max() + 2 )\n",
        "plt.ylim(df[\"Ventas\"].min() - 2 , df[\"Ventas\"].max() + 2 )\n",
        "\n",
        "# Nube de puntos + recta de regresión\n",
        "plt.scatter(df[\"Inversion\"],df[\"Ventas\"])\n",
        "colores= ['blue', 'red']\n",
        "ax.plot(df[\"Inversion\"], df[\"Ventas\"], 'o' , label='Datos' )\n",
        "ax.plot(linea , 'r--', color='red', label=\"Ajustado\")\n",
        "legend = ax.legend(loc=\"best\")"
      ],
      "metadata": {
        "colab": {
          "base_uri": "https://localhost:8080/",
          "height": 619
        },
        "id": "_qWshCbp13aq",
        "outputId": "4ac33627-1fdf-4bd6-8867-55850cf659a3"
      },
      "execution_count": null,
      "outputs": [
        {
          "output_type": "stream",
          "name": "stderr",
          "text": [
            "<ipython-input-53-51eb223c9f8a>:15: UserWarning: color is redundantly defined by the 'color' keyword argument and the fmt string \"r--\" (-> color='r'). The keyword argument will take precedence.\n",
            "  ax.plot(linea , 'r--', color='red', label=\"Ajustado\")\n"
          ]
        },
        {
          "output_type": "display_data",
          "data": {
            "text/plain": [
              "<Figure size 800x600 with 1 Axes>"
            ],
            "image/png": "[encoded data removed]"
          },
          "metadata": {}
        }
      ]
    },
    {
      "cell_type": "markdown",
      "source": [
        "#¿Cómo hago el análisis?\n",
        "\n",
        "𝛽0 Este parametro no afecta en nada la relación entre Ventas e Inversión. Por lo que sólo se trata de una normalización en la que se supone que el valor promedio del error será cero.  En este caso es de 2.8805.\n",
        "\n",
        "𝛽𝑗 Este valor debería reflejar cuál es el impacto de un cambio de Inversión sobre la variable Ventas, cuando el resto de las variables explicativas se mantienen constantes. Para este caso, el valor es de 0.74267.\n",
        "\n",
        "Ahora utilizando la función generada Prediccion_ventas(), haremos una predicción de ventas si la inversión es de 7 millones de euros:"
      ],
      "metadata": {
        "id": "V1-XHfy7d4M-"
      }
    },
    {
      "cell_type": "markdown",
      "source": [
        "#hacer la predición"
      ],
      "metadata": {
        "id": "MkO9yJrN2Rf5"
      }
    },
    {
      "cell_type": "code",
      "source": [
        "valor_predecir = 1\n",
        "prediccion = intercept + slope * valor_predecir\n",
        "print(f\"La prediccion de Ventas para {valor_predecir} millones de euros en inversión es de: \", prediccion)"
      ],
      "metadata": {
        "colab": {
          "base_uri": "https://localhost:8080/"
        },
        "id": "xIUkYxWg2Ua5",
        "outputId": "6682c89f-a22c-45a5-f918-3d98309aac5c"
      },
      "execution_count": null,
      "outputs": [
        {
          "output_type": "stream",
          "name": "stdout",
          "text": [
            "La prediccion de Ventas para 1 millones de euros en inversión es de:  3.623198380566801\n"
          ]
        }
      ]
    },
    {
      "cell_type": "code",
      "source": [],
      "metadata": {
        "id": "qKd6nZ_W3Nms"
      },
      "execution_count": null,
      "outputs": []
    }
  ]
}