{
  "nbformat": 4,
  "nbformat_minor": 0,
  "metadata": {
    "colab": {
      "provenance": [],
      "authorship_tag": "ABX9TyMIzyzCA131d8ecAziH2zv9",
      "include_colab_link": true
    },
    "kernelspec": {
      "name": "python3",
      "display_name": "Python 3"
    },
    "language_info": {
      "name": "python"
    }
  },
  "cells": [
    {
      "cell_type": "markdown",
      "metadata": {
        "id": "view-in-github",
        "colab_type": "text"
      },
      "source": [
        "<a href=\"https://colab.research.google.com/github/BetoACE/Python.-De-cero-a-ML/blob/main/Primeros_pasos_ML_UNAM.ipynb\" target=\"_parent\"><img src=\"https://colab.research.google.com/assets/colab-badge.svg\" alt=\"Open In Colab\"/></a>"
      ]
    },
    {
      "cell_type": "markdown",
      "source": [
        "# Primeros pasos: \"Hola mundo\"\n"
      ],
      "metadata": {
        "id": "dLcgiVorHjWw"
      }
    },
    {
      "cell_type": "code",
      "source": [
        " #ESTE ES UN COMENTARIO, SE HACEN CON #\n",
        "\n",
        "print(5) #IMPRIMIENDO UN NUMERO\n",
        "\n",
        "print(\"Hola mundo\")\n",
        "\n",
        "print(\"Esta es una suma\", 5+5)\n",
        "\n"
      ],
      "metadata": {
        "colab": {
          "base_uri": "https://localhost:8080/"
        },
        "id": "93R4jprsa7Kz",
        "outputId": "6ace3db5-ff4c-47da-ea48-2ffd9bd822ec"
      },
      "execution_count": null,
      "outputs": [
        {
          "output_type": "stream",
          "name": "stdout",
          "text": [
            "5\n",
            "Hola mundo\n",
            "Esta es una suma 10\n"
          ]
        }
      ]
    },
    {
      "cell_type": "code",
      "source": [
        "help(print)"
      ],
      "metadata": {
        "colab": {
          "base_uri": "https://localhost:8080/"
        },
        "id": "k-OtdgUFhjSI",
        "outputId": "79113176-4c59-423f-d943-5f7d90236ff1"
      },
      "execution_count": null,
      "outputs": [
        {
          "output_type": "stream",
          "name": "stdout",
          "text": [
            "Help on built-in function print in module builtins:\n",
            "\n",
            "print(...)\n",
            "    print(value, ..., sep=' ', end='\\n', file=sys.stdout, flush=False)\n",
            "    \n",
            "    Prints the values to a stream, or to sys.stdout by default.\n",
            "    Optional keyword arguments:\n",
            "    file:  a file-like object (stream); defaults to the current sys.stdout.\n",
            "    sep:   string inserted between values, default a space.\n",
            "    end:   string appended after the last value, default a newline.\n",
            "    flush: whether to forcibly flush the stream.\n",
            "\n"
          ]
        }
      ]
    },
    {
      "cell_type": "markdown",
      "source": [
        "division(numerador, denominador):\n",
        "\n",
        "\n",
        "division(5,10)\n",
        "\n",
        "Las funciones tienen argumentos, algunos principales, o también llamados \"argumentos posicionales\""
      ],
      "metadata": {
        "id": "0-ytTWbkjcgJ"
      }
    },
    {
      "cell_type": "code",
      "source": [
        "print(3,6,7)\n",
        "print(3,6,7, sep='-', end=',')\n",
        "print(3,6,7, sep='', )\n",
        "print(3,6,7, sep='')\n"
      ],
      "metadata": {
        "colab": {
          "base_uri": "https://localhost:8080/"
        },
        "id": "DdrMLlETlAj5",
        "outputId": "a5eae97a-c87e-4218-9e97-f5cc8620d382"
      },
      "execution_count": null,
      "outputs": [
        {
          "output_type": "stream",
          "name": "stdout",
          "text": [
            "3 6 7\n",
            "3-6-7,367\n",
            "367\n"
          ]
        }
      ]
    },
    {
      "cell_type": "code",
      "source": [
        "print(5,4.6,\"HOLA\",True)"
      ],
      "metadata": {
        "colab": {
          "base_uri": "https://localhost:8080/"
        },
        "id": "CXVNy4pmvFbO",
        "outputId": "1c5a9a95-3990-46be-9ee3-d0416aa6fa62"
      },
      "execution_count": null,
      "outputs": [
        {
          "output_type": "stream",
          "name": "stdout",
          "text": [
            "5 4.6 HOLA\n"
          ]
        }
      ]
    },
    {
      "cell_type": "markdown",
      "source": [
        "Literales tipo cadena (STRINGS)\n"
      ],
      "metadata": {
        "id": "kIQ_1lBqTTl4"
      }
    },
    {
      "cell_type": "code",
      "source": [
        "curp = \"aech904234jka\"\n",
        "edad = 33\n",
        "pi = 3.1416\n",
        "correo = \"hac106@hotmail.com\"\n",
        "\n",
        "print(\"El correo del usuario es\",correo)\n",
        "print(\"El correo del usuario es\" + \" \" + correo)\n"
      ],
      "metadata": {
        "colab": {
          "base_uri": "https://localhost:8080/"
        },
        "id": "gRIhv67VTZAa",
        "outputId": "49238d73-52cf-444b-90bc-93512a5a36e9"
      },
      "execution_count": null,
      "outputs": [
        {
          "output_type": "stream",
          "name": "stdout",
          "text": [
            "El correo del usuario es hac106@hotmail.com\n",
            "El correo del usuario es hac106@hotmail.com\n"
          ]
        }
      ]
    },
    {
      "cell_type": "code",
      "source": [
        "#1. Concatenar cadenas\n",
        "\n",
        "nombre = \"Humberto\"\n",
        "apellido = \"Acevedo\"\n",
        "nombre_completo= nombre + \" \" +apellido\n",
        "\n",
        "print(\"El nombre del usuario es\",nombre_completo)"
      ],
      "metadata": {
        "colab": {
          "base_uri": "https://localhost:8080/"
        },
        "id": "RSjo3ZfxXCmW",
        "outputId": "b94f22ae-b631-4fe8-c558-ec0374298103"
      },
      "execution_count": null,
      "outputs": [
        {
          "output_type": "stream",
          "name": "stdout",
          "text": [
            "El nombre del usuario es Humberto Acevedo\n"
          ]
        }
      ]
    },
    {
      "cell_type": "code",
      "source": [
        "# Repetir una cadena\n",
        "\n",
        "nombre=\"Beto\"\n",
        "\n",
        "repeticion = nombre * 4\n",
        "\n",
        "print(repeticion)"
      ],
      "metadata": {
        "colab": {
          "base_uri": "https://localhost:8080/"
        },
        "id": "uwUkPq2Nc7_u",
        "outputId": "36f4c3bf-cb66-4092-d2c8-9b8014be598c"
      },
      "execution_count": null,
      "outputs": [
        {
          "output_type": "stream",
          "name": "stdout",
          "text": [
            "BetoBetoBetoBeto\n"
          ]
        }
      ]
    },
    {
      "cell_type": "code",
      "source": [
        "#Acceder a un caracter por su posición (índice)\n",
        "\n",
        "\n",
        "RFC = \"AECH901227TK1\"\n",
        "\n",
        "HOMOCLAVE=RFC[10:13]\n",
        "\n",
        "\n",
        "\n",
        "print(HOMOCLAVE)\n"
      ],
      "metadata": {
        "colab": {
          "base_uri": "https://localhost:8080/"
        },
        "id": "BpbE0Ys-YMgA",
        "outputId": "3d1f0bd1-fc0d-45f2-a32e-6f3cddaf3a8b"
      },
      "execution_count": null,
      "outputs": [
        {
          "output_type": "stream",
          "name": "stdout",
          "text": [
            "TK1\n"
          ]
        }
      ]
    },
    {
      "cell_type": "markdown",
      "source": [
        "OPERADORES"
      ],
      "metadata": {
        "id": "JSFfAQXLcVOv"
      }
    },
    {
      "cell_type": "code",
      "source": [
        "print(2+3*5)\n",
        "\n"
      ],
      "metadata": {
        "colab": {
          "base_uri": "https://localhost:8080/"
        },
        "id": "NYBwWppKcWXj",
        "outputId": "550e3f32-b62e-4c3b-a23b-905eda881401"
      },
      "execution_count": null,
      "outputs": [
        {
          "output_type": "stream",
          "name": "stdout",
          "text": [
            "17\n"
          ]
        }
      ]
    },
    {
      "cell_type": "markdown",
      "source": [
        "VARIABLES"
      ],
      "metadata": {
        "id": "QcirWeCsj1xn"
      }
    },
    {
      "cell_type": "code",
      "source": [
        "a=10\n",
        "b=20\n",
        "c=30\n",
        "\n",
        "print(a,b,c)"
      ],
      "metadata": {
        "colab": {
          "base_uri": "https://localhost:8080/"
        },
        "id": "OW8inLwXj3iu",
        "outputId": "50121e7f-da3e-4d68-de52-d6281cd94fed"
      },
      "execution_count": null,
      "outputs": [
        {
          "output_type": "stream",
          "name": "stdout",
          "text": [
            "10 20 30\n"
          ]
        }
      ]
    },
    {
      "cell_type": "code",
      "source": [
        "#Intercambio de valores\n",
        "\n",
        "x=5\n",
        "y=10\n",
        "\n",
        "x, y = 5, 10\n",
        "\n",
        "x, y = y,x\n",
        "\n",
        "print(y)\n"
      ],
      "metadata": {
        "colab": {
          "base_uri": "https://localhost:8080/"
        },
        "id": "VuioxvwXkIpC",
        "outputId": "c10afbcb-12af-403b-b148-0a629233acbe"
      },
      "execution_count": null,
      "outputs": [
        {
          "output_type": "stream",
          "name": "stdout",
          "text": [
            "5\n"
          ]
        }
      ]
    },
    {
      "cell_type": "code",
      "source": [
        "m = n = p = 100\n",
        "\n",
        "print(m,n,p)\n",
        "\n",
        "nombre, edad, peso = \"juan\", 25, 70.5\n",
        "\n",
        "print(nombre,edad, peso)"
      ],
      "metadata": {
        "colab": {
          "base_uri": "https://localhost:8080/"
        },
        "id": "igR7cJ_WlQ3N",
        "outputId": "e71679a4-5f83-4c08-a142-2cf0e6f3e496"
      },
      "execution_count": null,
      "outputs": [
        {
          "output_type": "stream",
          "name": "stdout",
          "text": [
            "100 100 100\n",
            "juan 25 70.5\n"
          ]
        }
      ]
    },
    {
      "cell_type": "markdown",
      "source": [
        "Operadores lógicos"
      ],
      "metadata": {
        "id": "0R1TuXiwm--B"
      }
    },
    {
      "cell_type": "code",
      "source": [
        "a = True\n",
        "\n",
        "b = False\n",
        "\n",
        "#Operaciones lógicas\n",
        "\n",
        "resultado = a and b\n",
        "\n",
        "print(resultado)\n",
        "\n",
        "resultado = a or b\n",
        "\n",
        "print(resultado)\n",
        "\n"
      ],
      "metadata": {
        "colab": {
          "base_uri": "https://localhost:8080/"
        },
        "id": "DHrLB0J_nA_5",
        "outputId": "358bce98-50fc-4ce0-8689-b487105a1eb7"
      },
      "execution_count": null,
      "outputs": [
        {
          "output_type": "stream",
          "name": "stdout",
          "text": [
            "False\n",
            "True\n"
          ]
        }
      ]
    },
    {
      "cell_type": "code",
      "source": [
        "\n",
        "c = False\n",
        "\n",
        "resultado = not c\n",
        "\n",
        "print(resultado)"
      ],
      "metadata": {
        "colab": {
          "base_uri": "https://localhost:8080/"
        },
        "id": "Xp_l2e0Gp0IQ",
        "outputId": "c01db4ab-ce3a-4e2e-b69d-81542579778b"
      },
      "execution_count": null,
      "outputs": [
        {
          "output_type": "stream",
          "name": "stdout",
          "text": [
            "True\n"
          ]
        }
      ]
    },
    {
      "cell_type": "code",
      "source": [
        "a = True\n",
        "b = False\n",
        "c = True\n",
        "\n",
        "resultado = (a or b) and c\n",
        "\n",
        "print(resultado)\n",
        "\n"
      ],
      "metadata": {
        "colab": {
          "base_uri": "https://localhost:8080/"
        },
        "id": "2i-iCTaGqItc",
        "outputId": "ebf7ac2c-635a-4176-a0b6-ba51af2545de"
      },
      "execution_count": null,
      "outputs": [
        {
          "output_type": "stream",
          "name": "stdout",
          "text": [
            "True\n"
          ]
        }
      ]
    },
    {
      "cell_type": "code",
      "source": [
        "x = 5\n",
        "\n",
        "y = 10\n",
        "\n",
        "resultado = x < y\n",
        "\n",
        "\n",
        "x = 15\n",
        "\n",
        "resultado = 10 < x < 10\n",
        "\n",
        "print(resultado)"
      ],
      "metadata": {
        "colab": {
          "base_uri": "https://localhost:8080/"
        },
        "id": "TN2NZyndqgvc",
        "outputId": "89815b44-dce0-41bc-93d2-4e0fb8498298"
      },
      "execution_count": null,
      "outputs": [
        {
          "output_type": "stream",
          "name": "stdout",
          "text": [
            "False\n"
          ]
        }
      ]
    },
    {
      "cell_type": "code",
      "source": [
        "x = 8\n",
        "y = 12\n",
        "resultado = (x > 5) and (y < 15)\n",
        "\n",
        "print(resultado)"
      ],
      "metadata": {
        "colab": {
          "base_uri": "https://localhost:8080/"
        },
        "id": "8Sgl0zjIrP_p",
        "outputId": "586c9703-2b45-485e-af33-9af98a3a567d"
      },
      "execution_count": null,
      "outputs": [
        {
          "output_type": "stream",
          "name": "stdout",
          "text": [
            "True\n"
          ]
        }
      ]
    },
    {
      "cell_type": "code",
      "source": [
        "#Operador de igualdad ==\n",
        "\n",
        "cadena1 = \"hola\"\n",
        "\n",
        "cadena2= \"hola\"\n",
        "\n",
        "resultado = cadena1 == cadena2\n",
        "\n",
        "print(resultado)\n",
        "\n"
      ],
      "metadata": {
        "colab": {
          "base_uri": "https://localhost:8080/"
        },
        "id": "APcS9x8BrMDc",
        "outputId": "3e230664-1a36-4a73-a790-30de8859d668"
      },
      "execution_count": null,
      "outputs": [
        {
          "output_type": "stream",
          "name": "stdout",
          "text": [
            "True\n"
          ]
        }
      ]
    },
    {
      "cell_type": "code",
      "source": [
        "variable1=input(\"Ingresa tu nombre\")\n",
        "\n",
        "print(\"Hola, mucho gusto\", variable1)"
      ],
      "metadata": {
        "colab": {
          "base_uri": "https://localhost:8080/"
        },
        "id": "rJkWFXgssYIL",
        "outputId": "b7ac03e0-6c98-4169-fce3-a2cc9af8b178"
      },
      "execution_count": null,
      "outputs": [
        {
          "output_type": "stream",
          "name": "stdout",
          "text": [
            "Ingresa tu nombreBeto\n",
            "Hola, mucho gusto Beto\n"
          ]
        }
      ]
    },
    {
      "cell_type": "code",
      "source": [
        "numero1=int(input(\"INGRESA UN NUMERO\"))\n",
        "numero2=int(input(\"INGRESA OTRO NUMERO\"))\n",
        "\n",
        "suma = numero1 + numero2\n",
        "\n",
        "print(suma)\n",
        "\n",
        "print(type(suma))\n",
        "\n"
      ],
      "metadata": {
        "colab": {
          "base_uri": "https://localhost:8080/"
        },
        "id": "aW-VH5_HtLcl",
        "outputId": "f319ad51-fe49-4935-f69a-3d6a490d6c00"
      },
      "execution_count": null,
      "outputs": [
        {
          "output_type": "stream",
          "name": "stdout",
          "text": [
            "INGRESA UN NUMERO10\n",
            "INGRESA OTRO NUMERO8\n",
            "18\n",
            "<class 'int'>\n"
          ]
        }
      ]
    },
    {
      "cell_type": "markdown",
      "source": [
        "Primer requerimiento:\n",
        "\n",
        "Crea un programa que me ayude a atutentificar un usuario mediante una password y una password correcta. Si la contraseña es correcta que mande el mensaje: \"Bienvenido\" si no, \"Contraseña incorrecta\""
      ],
      "metadata": {
        "id": "qCR99SqouPza"
      }
    },
    {
      "cell_type": "code",
      "source": [
        "contraseña_correcta=\"qwerty\"\n",
        "\n",
        "contraseña_usuario=input(\"Ingresa la contraseña: \")\n",
        "\n",
        "resultado=contraseña_correcta == contraseña_usuario\n",
        "\n",
        "print(\"La contraseña fue: \", resultado, \"si es True, eres bienvenido; si es False la contraseña esta incorrecta\")"
      ],
      "metadata": {
        "colab": {
          "base_uri": "https://localhost:8080/"
        },
        "id": "lTrLxOvTufal",
        "outputId": "9f9088fb-84d8-4662-d0cc-4787a522d9df"
      },
      "execution_count": null,
      "outputs": [
        {
          "output_type": "stream",
          "name": "stdout",
          "text": [
            "Ingresa la contraseña: qwerty\n",
            "La contraseña fue:  True si es True, eres bienvenido; si es False la contraseña esta incorrecta\n"
          ]
        }
      ]
    },
    {
      "cell_type": "markdown",
      "source": [],
      "metadata": {
        "id": "kTN2jNCJnlfj"
      }
    },
    {
      "cell_type": "markdown",
      "source": [
        "Segundo requerimiento:\n",
        "\n",
        "Crea un programa que pida al usuario 2 números, y que me devuelva la operacion de exponente, el primer número será la base y el segundo sera la potencia. Guarde el resultado en una variable e imprima junto con la leyenda:\n",
        "\n",
        "\"El numero (base) elevado a la (potencia) tiene como resultado: (el resulado)"
      ],
      "metadata": {
        "id": "cPVwLcY4w_Zw"
      }
    },
    {
      "cell_type": "code",
      "source": [],
      "metadata": {
        "id": "Fyn4MaIuxfkH"
      },
      "execution_count": null,
      "outputs": []
    },
    {
      "cell_type": "markdown",
      "source": [
        "Condicionantes IF, ELIF y ELSE"
      ],
      "metadata": {
        "id": "ZZ2v9Yb-nmcv"
      }
    },
    {
      "cell_type": "code",
      "source": [
        "numero=int(input(\"Ingresa un numero positivo: \"))\n",
        "\n",
        "if numero < 0:\n",
        "  print(\"Le he dicho que tiene que ser un numero positivo!\")\n",
        "\n",
        "print(\"bien, ha ingresado el numero:\", numero)\n"
      ],
      "metadata": {
        "colab": {
          "base_uri": "https://localhost:8080/"
        },
        "id": "JSEnvo5_notR",
        "outputId": "d8e5b178-7754-4e58-d0f7-2c76483a3cf3"
      },
      "execution_count": null,
      "outputs": [
        {
          "output_type": "stream",
          "name": "stdout",
          "text": [
            "Ingresa un numero positivo: -6\n",
            "Le he dicho que tiene que ser un numero positivo!\n",
            "bien, ha ingresado el numero: -6\n"
          ]
        }
      ]
    },
    {
      "cell_type": "code",
      "source": [
        "edad = int(input(\"INGRESA TU EDAD:\"))\n",
        "\n",
        "if edad >=0 and edad < 18:\n",
        "    print(\"eres menor de edad.\")\n",
        "elif edad <0:\n",
        "  print(\"No se puede numeros negativos\")\n",
        "else:\n",
        "    print(\"Ya eres mayor de edad\")"
      ],
      "metadata": {
        "colab": {
          "base_uri": "https://localhost:8080/",
          "height": 356
        },
        "id": "KOohJ1eQpkCp",
        "outputId": "6c1d2e1e-1a31-431f-f898-2f894d134113"
      },
      "execution_count": null,
      "outputs": [
        {
          "output_type": "error",
          "ename": "KeyboardInterrupt",
          "evalue": "Interrupted by user",
          "traceback": [
            "\u001b[0;31m---------------------------------------------------------------------------\u001b[0m",
            "\u001b[0;31mKeyboardInterrupt\u001b[0m                         Traceback (most recent call last)",
            "\u001b[0;32m<ipython-input-45-0bf8c3b2a7d6>\u001b[0m in \u001b[0;36m<cell line: 1>\u001b[0;34m()\u001b[0m\n\u001b[0;32m----> 1\u001b[0;31m \u001b[0medad\u001b[0m \u001b[0;34m=\u001b[0m \u001b[0mint\u001b[0m\u001b[0;34m(\u001b[0m\u001b[0minput\u001b[0m\u001b[0;34m(\u001b[0m\u001b[0;34m\"INGRESA TU EDAD:\"\u001b[0m\u001b[0;34m)\u001b[0m\u001b[0;34m)\u001b[0m\u001b[0;34m\u001b[0m\u001b[0;34m\u001b[0m\u001b[0m\n\u001b[0m\u001b[1;32m      2\u001b[0m \u001b[0;34m\u001b[0m\u001b[0m\n\u001b[1;32m      3\u001b[0m \u001b[0;32mif\u001b[0m \u001b[0medad\u001b[0m \u001b[0;34m>=\u001b[0m\u001b[0;36m0\u001b[0m \u001b[0;32mand\u001b[0m \u001b[0medad\u001b[0m \u001b[0;34m<\u001b[0m \u001b[0;36m18\u001b[0m\u001b[0;34m:\u001b[0m\u001b[0;34m\u001b[0m\u001b[0;34m\u001b[0m\u001b[0m\n\u001b[1;32m      4\u001b[0m     \u001b[0mprint\u001b[0m\u001b[0;34m(\u001b[0m\u001b[0;34m\"eres menor de edad.\"\u001b[0m\u001b[0;34m)\u001b[0m\u001b[0;34m\u001b[0m\u001b[0;34m\u001b[0m\u001b[0m\n\u001b[1;32m      5\u001b[0m \u001b[0;32melif\u001b[0m \u001b[0medad\u001b[0m \u001b[0;34m<\u001b[0m\u001b[0;36m0\u001b[0m\u001b[0;34m:\u001b[0m\u001b[0;34m\u001b[0m\u001b[0;34m\u001b[0m\u001b[0m\n",
            "\u001b[0;32m/usr/local/lib/python3.10/dist-packages/ipykernel/kernelbase.py\u001b[0m in \u001b[0;36mraw_input\u001b[0;34m(self, prompt)\u001b[0m\n\u001b[1;32m    849\u001b[0m                 \u001b[0;34m\"raw_input was called, but this frontend does not support input requests.\"\u001b[0m\u001b[0;34m\u001b[0m\u001b[0;34m\u001b[0m\u001b[0m\n\u001b[1;32m    850\u001b[0m             )\n\u001b[0;32m--> 851\u001b[0;31m         return self._input_request(str(prompt),\n\u001b[0m\u001b[1;32m    852\u001b[0m             \u001b[0mself\u001b[0m\u001b[0;34m.\u001b[0m\u001b[0m_parent_ident\u001b[0m\u001b[0;34m,\u001b[0m\u001b[0;34m\u001b[0m\u001b[0;34m\u001b[0m\u001b[0m\n\u001b[1;32m    853\u001b[0m             \u001b[0mself\u001b[0m\u001b[0;34m.\u001b[0m\u001b[0m_parent_header\u001b[0m\u001b[0;34m,\u001b[0m\u001b[0;34m\u001b[0m\u001b[0;34m\u001b[0m\u001b[0m\n",
            "\u001b[0;32m/usr/local/lib/python3.10/dist-packages/ipykernel/kernelbase.py\u001b[0m in \u001b[0;36m_input_request\u001b[0;34m(self, prompt, ident, parent, password)\u001b[0m\n\u001b[1;32m    893\u001b[0m             \u001b[0;32mexcept\u001b[0m \u001b[0mKeyboardInterrupt\u001b[0m\u001b[0;34m:\u001b[0m\u001b[0;34m\u001b[0m\u001b[0;34m\u001b[0m\u001b[0m\n\u001b[1;32m    894\u001b[0m                 \u001b[0;31m# re-raise KeyboardInterrupt, to truncate traceback\u001b[0m\u001b[0;34m\u001b[0m\u001b[0;34m\u001b[0m\u001b[0m\n\u001b[0;32m--> 895\u001b[0;31m                 \u001b[0;32mraise\u001b[0m \u001b[0mKeyboardInterrupt\u001b[0m\u001b[0;34m(\u001b[0m\u001b[0;34m\"Interrupted by user\"\u001b[0m\u001b[0;34m)\u001b[0m \u001b[0;32mfrom\u001b[0m \u001b[0;32mNone\u001b[0m\u001b[0;34m\u001b[0m\u001b[0;34m\u001b[0m\u001b[0m\n\u001b[0m\u001b[1;32m    896\u001b[0m             \u001b[0;32mexcept\u001b[0m \u001b[0mException\u001b[0m \u001b[0;32mas\u001b[0m \u001b[0me\u001b[0m\u001b[0;34m:\u001b[0m\u001b[0;34m\u001b[0m\u001b[0;34m\u001b[0m\u001b[0m\n\u001b[1;32m    897\u001b[0m                 \u001b[0mself\u001b[0m\u001b[0;34m.\u001b[0m\u001b[0mlog\u001b[0m\u001b[0;34m.\u001b[0m\u001b[0mwarning\u001b[0m\u001b[0;34m(\u001b[0m\u001b[0;34m\"Invalid Message:\"\u001b[0m\u001b[0;34m,\u001b[0m \u001b[0mexc_info\u001b[0m\u001b[0;34m=\u001b[0m\u001b[0;32mTrue\u001b[0m\u001b[0;34m)\u001b[0m\u001b[0;34m\u001b[0m\u001b[0;34m\u001b[0m\u001b[0m\n",
            "\u001b[0;31mKeyboardInterrupt\u001b[0m: Interrupted by user"
          ]
        }
      ]
    },
    {
      "cell_type": "code",
      "source": [
        "edad = 22\n",
        "es_estudiante = True\n",
        "\n",
        "if edad < 18:\n",
        "    print(\"El boleto cuesta 5 euros.\")\n",
        "elif edad > 60:\n",
        "    print(\"El boleto cuesta 6 euros.\")\n",
        "else:\n",
        "    if edad <18 and es_estudiante==True:\n",
        "        print(\"El boleto no cuesta\")\n",
        "    else:\n",
        "        print(\"El boleto cuesta 10 euros.\")\n"
      ],
      "metadata": {
        "colab": {
          "base_uri": "https://localhost:8080/"
        },
        "id": "rXuaqzTrt-7Y",
        "outputId": "0f46d555-510f-469f-d0b8-3d794f0bcade"
      },
      "execution_count": null,
      "outputs": [
        {
          "output_type": "stream",
          "name": "stdout",
          "text": [
            "El boleto no cuesta\n"
          ]
        }
      ]
    },
    {
      "cell_type": "markdown",
      "source": [
        "Segundo requerimiento:\n",
        "\n",
        "Crea un programa que me ayude a atutentificar un usuario mediante una password y una password correcta. Si la contraseña es correcta que mande el mensaje: \"Bienvenido\" si no, \"Contraseña incorrecta\". OCUPA SENTECIAS CONDICIONANTES IF, ELIF y ELSE"
      ],
      "metadata": {
        "id": "O1VpKcoPuuFW"
      }
    },
    {
      "cell_type": "code",
      "source": [
        "# Contraseña correcta\n",
        "intentos=1\n",
        "password_correcta = \"12345\"\n",
        "\n",
        "# Solicitar al usuario que ingrese su contraseña\n",
        "password_usuario = input(\"Introduce tu contraseña: \")\n",
        "\n",
        "while intentos<3:\n",
        "# Validar la contraseña ingresada\n",
        "if password_usuario == password_correcta:\n",
        "    print(\"Bienvenido\")\n",
        "elif password_usuario != password_correcta:\n",
        "    print(\"Contraseña incorrecta\")\n",
        "else:\n",
        "    print(\"Error inesperado\")\n",
        "\n",
        "\n"
      ],
      "metadata": {
        "colab": {
          "base_uri": "https://localhost:8080/"
        },
        "id": "JqkuKpnau2dQ",
        "outputId": "dd143eff-1123-4b47-9e6b-d224ef9ca82d"
      },
      "execution_count": null,
      "outputs": [
        {
          "output_type": "stream",
          "name": "stdout",
          "text": [
            "Introduce tu contraseña: -65\n",
            "Contraseña incorrecta\n"
          ]
        }
      ]
    },
    {
      "cell_type": "code",
      "source": [
        "contador=1\n",
        "while contador<6:\n",
        " print(contador)\n",
        " contador=contador+1\n",
        "print(\"Bucle terminado\")"
      ],
      "metadata": {
        "colab": {
          "base_uri": "https://localhost:8080/"
        },
        "id": "xYNPt_4-1CAj",
        "outputId": "c010c751-dae3-4f84-bd5c-d4148f8b83bc"
      },
      "execution_count": null,
      "outputs": [
        {
          "output_type": "stream",
          "name": "stdout",
          "text": [
            "1\n",
            "2\n",
            "3\n",
            "4\n",
            "5\n",
            "Bucle terminado\n"
          ]
        }
      ]
    },
    {
      "cell_type": "markdown",
      "source": [
        "Ciclos For, While"
      ],
      "metadata": {
        "id": "721nCYqsSR8F"
      }
    },
    {
      "cell_type": "code",
      "source": [
        "contador=1\n",
        "while contador <6:\n",
        "  if contador == 5:\n",
        "    break\n",
        "  print(contador)\n",
        "  contador = contador +1\n",
        "print(\"Ya me sali del while\")\n",
        "\n",
        "num = 0\n",
        "\n",
        "\n"
      ],
      "metadata": {
        "colab": {
          "base_uri": "https://localhost:8080/"
        },
        "id": "2FYhgYcOWbBl",
        "outputId": "324bc50d-479c-4530-eb9c-f4fc1eebc343"
      },
      "execution_count": null,
      "outputs": [
        {
          "output_type": "stream",
          "name": "stdout",
          "text": [
            "1\n",
            "2\n",
            "3\n",
            "4\n",
            "Ya me sali del while\n"
          ]
        }
      ]
    },
    {
      "cell_type": "markdown",
      "source": [
        "Ejercicio 1: Imprimir números del 1 al 10 (ciclo while)\n",
        "Instrucción: Usa un ciclo while para imprimir los números del 1 al 10."
      ],
      "metadata": {
        "id": "ae7MI6lyalc8"
      }
    },
    {
      "cell_type": "code",
      "source": [
        "while num <=10:\n",
        "  print(num)\n",
        "  num = num+1"
      ],
      "metadata": {
        "id": "SVZMfe5za6ge"
      },
      "execution_count": null,
      "outputs": []
    },
    {
      "cell_type": "markdown",
      "source": [
        "Ejercicio 1: Imprimir números del 1 al 10 (ciclo while)\n",
        "Instrucción: Usa un ciclo while para imprimir los números del 1 al 10.\n",
        "NOTA: Que se salga del bucle cuando num==8 e imprima al final: \"LLegué al 8, y me sali del bucle\"\n",
        "\n"
      ],
      "metadata": {
        "id": "Xaf_aiTFaf3w"
      }
    },
    {
      "cell_type": "code",
      "source": [
        "num=0\n",
        "while num <=10:\n",
        "  if num == 8:\n",
        "    break\n",
        "  print(num)\n",
        "  num = num+1\n",
        "print(\"LLegué al 8, y me sali del bucle\")"
      ],
      "metadata": {
        "colab": {
          "base_uri": "https://localhost:8080/"
        },
        "id": "ccY3cxkWZk3g",
        "outputId": "32a7c669-840f-4751-a106-e807d4566fdc"
      },
      "execution_count": null,
      "outputs": [
        {
          "output_type": "stream",
          "name": "stdout",
          "text": [
            "0\n",
            "1\n",
            "2\n",
            "3\n",
            "4\n",
            "5\n",
            "6\n",
            "7\n",
            "LLegué al 8, y me sali del bucle\n"
          ]
        }
      ]
    },
    {
      "cell_type": "markdown",
      "source": [
        "Ejercicio 2: Contador regresivo\n",
        "Instrucción: Crea un programa que cuente regresivamente desde 10 hasta 0 usando un ciclo while."
      ],
      "metadata": {
        "id": "nbrBEgBacdEw"
      }
    },
    {
      "cell_type": "code",
      "source": [
        "num=10\n",
        "while num <=10:\n",
        "  if num == 0:\n",
        "    break\n",
        "  print(num)\n",
        "  num = num-1\n"
      ],
      "metadata": {
        "colab": {
          "base_uri": "https://localhost:8080/"
        },
        "id": "FCuOFx0Hc5y_",
        "outputId": "6f7b0f39-e733-4f3a-a297-a59b61afc184"
      },
      "execution_count": null,
      "outputs": [
        {
          "output_type": "stream",
          "name": "stdout",
          "text": [
            "10\n",
            "9\n",
            "8\n",
            "7\n",
            "6\n",
            "5\n",
            "4\n",
            "3\n",
            "2\n",
            "1\n"
          ]
        }
      ]
    },
    {
      "cell_type": "markdown",
      "source": [
        "Ejercicio 3: Pedir contraseñas\n",
        "Instrucción: Crea un programa que siga pidiendo una contraseña hasta que el usuario ingrese la correcta (\"seguro123\")."
      ],
      "metadata": {
        "id": "opt0H14leFYl"
      }
    },
    {
      "cell_type": "code",
      "source": [
        "contraseña = \"seguro123\"\n",
        "contraseña_ingresada = \"\"\n",
        "\n",
        "while contraseña_ingresada != contraseña:\n",
        "  contraseña_ingresada=input(\"INTRODUCE UNA CONTRASEÑA: \")\n",
        "print(\"¡Por fin entraste!\")"
      ],
      "metadata": {
        "colab": {
          "base_uri": "https://localhost:8080/"
        },
        "id": "28HH5L01eG7u",
        "outputId": "945b7aaf-eb49-41e9-d216-e4c185c3acc7"
      },
      "execution_count": null,
      "outputs": [
        {
          "output_type": "stream",
          "name": "stdout",
          "text": [
            "INTRODUCE UNA CONTRASEÑA: hola\n",
            "INTRODUCE UNA CONTRASEÑA: 123\n",
            "INTRODUCE UNA CONTRASEÑA: seguro123\n",
            "¡Por fin entraste!\n"
          ]
        }
      ]
    },
    {
      "cell_type": "markdown",
      "source": [
        "Ciclo FOR"
      ],
      "metadata": {
        "id": "MhkKbE69jL_h"
      }
    },
    {
      "cell_type": "code",
      "source": [
        "nombres = [\"Ricardo\", \"Andrés\", \"Miguel\", \"Eduardo\", \"Jesús\"]\n",
        "\n",
        "for nombre in nombres:\n",
        "  print(nombre)"
      ],
      "metadata": {
        "colab": {
          "base_uri": "https://localhost:8080/"
        },
        "id": "1UspHKzVjNDA",
        "outputId": "92b6deb6-bd0f-4358-ffc1-6a8879847265"
      },
      "execution_count": null,
      "outputs": [
        {
          "output_type": "stream",
          "name": "stdout",
          "text": [
            "Ricardo\n",
            "Andrés\n",
            "Miguel\n",
            "Eduardo\n",
            "Jesús\n"
          ]
        }
      ]
    },
    {
      "cell_type": "code",
      "source": [
        "palabra = input(\"Ingresa cualquier palabra: \")\n",
        "vocales =\"aeiou\"\n",
        "contador=0\n",
        "\n",
        "for i in palabra:\n",
        "  if i in vocales:\n",
        "    contador =contador+1\n",
        "\n",
        "print(\"el numero de vocales en la palabra\",palabra,\"son\",contador)"
      ],
      "metadata": {
        "colab": {
          "base_uri": "https://localhost:8080/"
        },
        "id": "DTmSX-jNkUwS",
        "outputId": "6abfe675-7aa1-41ff-f2f5-f655b0ea03da"
      },
      "execution_count": null,
      "outputs": [
        {
          "output_type": "stream",
          "name": "stdout",
          "text": [
            "Ingresa cualquier palabra: guitierrez\n",
            "el numero de vocales en la palabra guitierrez son 5\n"
          ]
        }
      ]
    },
    {
      "cell_type": "code",
      "source": [
        "\n",
        "for i in range(1,20,5):\n",
        "    print(i)\n",
        "\n"
      ],
      "metadata": {
        "colab": {
          "base_uri": "https://localhost:8080/"
        },
        "id": "iSVp3HGvlSZi",
        "outputId": "faa90080-7880-4481-9c46-2614374aa0b7"
      },
      "execution_count": null,
      "outputs": [
        {
          "output_type": "stream",
          "name": "stdout",
          "text": [
            "1\n",
            "6\n",
            "11\n",
            "16\n"
          ]
        }
      ]
    },
    {
      "cell_type": "markdown",
      "source": [
        "Ejercicio 4: Imprime los nùmeros pares del 1 al 100"
      ],
      "metadata": {
        "id": "3hSZBeIumElx"
      }
    },
    {
      "cell_type": "code",
      "source": [
        "\n",
        "# for i in range(2,101,2):\n",
        "#   print(i)\n",
        "\n",
        "nombre =\"Humberto\"\n",
        "\n",
        "for i in nombre:\n",
        "  print(i)"
      ],
      "metadata": {
        "colab": {
          "base_uri": "https://localhost:8080/"
        },
        "id": "JZ580ATXmIna",
        "outputId": "f0e095ae-a85f-467f-bdc8-2428422bddee"
      },
      "execution_count": null,
      "outputs": [
        {
          "output_type": "stream",
          "name": "stdout",
          "text": [
            "H\n",
            "u\n",
            "m\n",
            "b\n",
            "e\n",
            "r\n",
            "t\n",
            "o\n"
          ]
        }
      ]
    },
    {
      "cell_type": "markdown",
      "source": [
        "Ejercicio4. Calcular la suma de todos los números del 1 al 100."
      ],
      "metadata": {
        "id": "78avgppQnZy3"
      }
    },
    {
      "cell_type": "code",
      "source": [
        "contador=0\n",
        "for i in range(1,101):\n",
        "  contador = contador + i\n",
        "\n",
        "print(\"La suma es\",contador)\n"
      ],
      "metadata": {
        "colab": {
          "base_uri": "https://localhost:8080/"
        },
        "id": "PXWIkUXWnQyX",
        "outputId": "c8a18262-b323-4a84-a97b-b230ed72ddcf"
      },
      "execution_count": null,
      "outputs": [
        {
          "output_type": "stream",
          "name": "stdout",
          "text": [
            "La suma es 5050\n"
          ]
        }
      ]
    },
    {
      "cell_type": "code",
      "source": [],
      "metadata": {
        "id": "RP0idtgPm4qf"
      },
      "execution_count": null,
      "outputs": []
    },
    {
      "cell_type": "markdown",
      "source": [
        "# LISTAS\n",
        "\n",
        "trabajemos con listas y sus métodos"
      ],
      "metadata": {
        "id": "MRS3AxSFpa0L"
      }
    },
    {
      "cell_type": "code",
      "source": [
        "mi_lista = [1,2,3,4,5]\n",
        "mi_lista.append(6)\n",
        "mi_lista.append(8)\n",
        "\n",
        "print(mi_lista)"
      ],
      "metadata": {
        "colab": {
          "base_uri": "https://localhost:8080/"
        },
        "id": "BucUjUHzpfws",
        "outputId": "40690572-b10c-462c-d863-213701aeb9de"
      },
      "execution_count": 4,
      "outputs": [
        {
          "output_type": "stream",
          "name": "stdout",
          "text": [
            "[1, 2, 3, 4, 5, 6, 8]\n"
          ]
        }
      ]
    },
    {
      "cell_type": "code",
      "source": [
        "mi_lista = [1,2,3,4,5]\n",
        "\n",
        "mi_lista.insert(2,\"hola\")\n",
        "\n",
        "mi_lista"
      ],
      "metadata": {
        "id": "dLgLWTSSshln",
        "outputId": "6829ff60-58c1-47c0-b1da-a60bd2abede2",
        "colab": {
          "base_uri": "https://localhost:8080/"
        }
      },
      "execution_count": 6,
      "outputs": [
        {
          "output_type": "execute_result",
          "data": {
            "text/plain": [
              "[1, 2, 'hola', 3, 4, 5]"
            ]
          },
          "metadata": {},
          "execution_count": 6
        }
      ]
    },
    {
      "cell_type": "code",
      "source": [
        "mi_lista = [1,2,\"Hola\",3,4,5]\n",
        "\n",
        "mi_lista.pop()\n",
        "\n",
        "mi_lista"
      ],
      "metadata": {
        "id": "DYAy-TFptEwd",
        "outputId": "2eb00247-55a0-4653-b0bf-939ce4ad7181",
        "colab": {
          "base_uri": "https://localhost:8080/"
        }
      },
      "execution_count": 11,
      "outputs": [
        {
          "output_type": "execute_result",
          "data": {
            "text/plain": [
              "[1, 2, 'Hola', 3, 4]"
            ]
          },
          "metadata": {},
          "execution_count": 11
        }
      ]
    },
    {
      "cell_type": "code",
      "source": [
        "mi_lista = [4,3,\"hola\",1,2,5]\n",
        "mi_lista.remove(2)\n",
        "print(mi_lista)  # [1, 2, 3, 4, 5]"
      ],
      "metadata": {
        "id": "wCywAuXltX-6",
        "outputId": "8e97456f-7e63-4c63-f431-c5ac7f656c51",
        "colab": {
          "base_uri": "https://localhost:8080/"
        }
      },
      "execution_count": 17,
      "outputs": [
        {
          "output_type": "stream",
          "name": "stdout",
          "text": [
            "[4, 3, 'hola', 1, 5]\n"
          ]
        }
      ]
    },
    {
      "cell_type": "code",
      "source": [
        "mi_lista = [4,3,\"hola\",1,2,5]\n",
        "mi_lista.remove(\"hola\")\n",
        "print(mi_lista)  # [1, 2, 3, 4, 5]\n",
        "\n",
        "#Ordenar la lista\n",
        "\n",
        "mi_lista.sort()\n",
        "mi_lista.reverse()\n",
        "\n",
        "print(mi_lista)\n",
        "\n",
        "# Conocer los elementos de una lista\n",
        "\n",
        "var=\"hola como estás?\"\n",
        "\n",
        "longitud=len(mi_lista)\n",
        "\n",
        "print(longitud)"
      ],
      "metadata": {
        "id": "ia-VDWUet3QL",
        "outputId": "d9b27198-69ad-403e-8f5e-5d9c5cf9347c",
        "colab": {
          "base_uri": "https://localhost:8080/"
        }
      },
      "execution_count": 25,
      "outputs": [
        {
          "output_type": "stream",
          "name": "stdout",
          "text": [
            "[4, 3, 1, 2, 5]\n",
            "[5, 4, 3, 2, 1]\n",
            "5\n"
          ]
        }
      ]
    },
    {
      "cell_type": "code",
      "source": [
        "numeros = [1, 2, 3, 4, 5]\n",
        "\n",
        "# Solución\n",
        "suma = sum(numeros)\n",
        "maximo = max(numeros)\n",
        "minimo = min(numeros)\n",
        "print(suma, maximo, minimo)  # 15\n",
        "\n"
      ],
      "metadata": {
        "id": "iFOfeEWFvtG2",
        "outputId": "c75305e4-b870-448a-d60f-edd0ab2c3668",
        "colab": {
          "base_uri": "https://localhost:8080/"
        }
      },
      "execution_count": 27,
      "outputs": [
        {
          "output_type": "stream",
          "name": "stdout",
          "text": [
            "15 5 1\n"
          ]
        }
      ]
    },
    {
      "cell_type": "markdown",
      "source": [],
      "metadata": {
        "id": "shNdF-bjxr7a"
      }
    },
    {
      "cell_type": "markdown",
      "source": [
        "#REQUERIMIENTO\n",
        "\n",
        "Construye un programa que pida al usuario 5 calificaciones y que regrese al final el promedio, con la leyenda \"Tu promedio es: xx\""
      ],
      "metadata": {
        "id": "S3XFVQfNwHbq"
      }
    },
    {
      "cell_type": "code",
      "source": [
        "# Crear una lista vacía para almacenar los nombres\n",
        "nombres = []\n",
        "\n",
        "# Bucle para seguir pidiendo nombres hasta que el usuario escriba \"fin\"\n",
        "while True:\n",
        "    nombre = input(\"Ingresa un nombre (o escribe 'fin' para terminar): \")\n",
        "\n",
        "    if nombre == 'fin':  # Si el usuario escribe 'fin', se detiene el bucle\n",
        "        break\n",
        "\n",
        "    nombres.append(nombre)  # Añadir el nombre a la lista\n",
        "\n",
        "\n",
        "# Mostrar la lista completa de nombres\n",
        "print(\"Lista de nombres ingresados:\", nombres)\n"
      ],
      "metadata": {
        "id": "GPdt_GAZwVQ5",
        "outputId": "dfd66cc2-9f50-4cdb-8a2a-e305f4fe4470",
        "colab": {
          "base_uri": "https://localhost:8080/",
          "height": 356
        }
      },
      "execution_count": 30,
      "outputs": [
        {
          "output_type": "error",
          "ename": "KeyboardInterrupt",
          "evalue": "Interrupted by user",
          "traceback": [
            "\u001b[0;31m---------------------------------------------------------------------------\u001b[0m",
            "\u001b[0;31mKeyboardInterrupt\u001b[0m                         Traceback (most recent call last)",
            "\u001b[0;32m<ipython-input-30-eba22c7e2f90>\u001b[0m in \u001b[0;36m<cell line: 5>\u001b[0;34m()\u001b[0m\n\u001b[1;32m      4\u001b[0m \u001b[0;31m# Bucle para seguir pidiendo nombres hasta que el usuario escriba \"fin\"\u001b[0m\u001b[0;34m\u001b[0m\u001b[0;34m\u001b[0m\u001b[0m\n\u001b[1;32m      5\u001b[0m \u001b[0;32mwhile\u001b[0m \u001b[0;32mTrue\u001b[0m\u001b[0;34m:\u001b[0m\u001b[0;34m\u001b[0m\u001b[0;34m\u001b[0m\u001b[0m\n\u001b[0;32m----> 6\u001b[0;31m     \u001b[0mnombre\u001b[0m \u001b[0;34m=\u001b[0m \u001b[0minput\u001b[0m\u001b[0;34m(\u001b[0m\u001b[0;34m\"Ingresa un nombre (o escribe 'fin' para terminar): \"\u001b[0m\u001b[0;34m)\u001b[0m\u001b[0;34m\u001b[0m\u001b[0;34m\u001b[0m\u001b[0m\n\u001b[0m\u001b[1;32m      7\u001b[0m \u001b[0;34m\u001b[0m\u001b[0m\n\u001b[1;32m      8\u001b[0m     \u001b[0;32mif\u001b[0m \u001b[0mnombre\u001b[0m \u001b[0;34m==\u001b[0m \u001b[0;34m'fin'\u001b[0m\u001b[0;34m:\u001b[0m  \u001b[0;31m# Si el usuario escribe 'fin', se detiene el bucle\u001b[0m\u001b[0;34m\u001b[0m\u001b[0;34m\u001b[0m\u001b[0m\n",
            "\u001b[0;32m/usr/local/lib/python3.10/dist-packages/ipykernel/kernelbase.py\u001b[0m in \u001b[0;36mraw_input\u001b[0;34m(self, prompt)\u001b[0m\n\u001b[1;32m    849\u001b[0m                 \u001b[0;34m\"raw_input was called, but this frontend does not support input requests.\"\u001b[0m\u001b[0;34m\u001b[0m\u001b[0;34m\u001b[0m\u001b[0m\n\u001b[1;32m    850\u001b[0m             )\n\u001b[0;32m--> 851\u001b[0;31m         return self._input_request(str(prompt),\n\u001b[0m\u001b[1;32m    852\u001b[0m             \u001b[0mself\u001b[0m\u001b[0;34m.\u001b[0m\u001b[0m_parent_ident\u001b[0m\u001b[0;34m,\u001b[0m\u001b[0;34m\u001b[0m\u001b[0;34m\u001b[0m\u001b[0m\n\u001b[1;32m    853\u001b[0m             \u001b[0mself\u001b[0m\u001b[0;34m.\u001b[0m\u001b[0m_parent_header\u001b[0m\u001b[0;34m,\u001b[0m\u001b[0;34m\u001b[0m\u001b[0;34m\u001b[0m\u001b[0m\n",
            "\u001b[0;32m/usr/local/lib/python3.10/dist-packages/ipykernel/kernelbase.py\u001b[0m in \u001b[0;36m_input_request\u001b[0;34m(self, prompt, ident, parent, password)\u001b[0m\n\u001b[1;32m    893\u001b[0m             \u001b[0;32mexcept\u001b[0m \u001b[0mKeyboardInterrupt\u001b[0m\u001b[0;34m:\u001b[0m\u001b[0;34m\u001b[0m\u001b[0;34m\u001b[0m\u001b[0m\n\u001b[1;32m    894\u001b[0m                 \u001b[0;31m# re-raise KeyboardInterrupt, to truncate traceback\u001b[0m\u001b[0;34m\u001b[0m\u001b[0;34m\u001b[0m\u001b[0m\n\u001b[0;32m--> 895\u001b[0;31m                 \u001b[0;32mraise\u001b[0m \u001b[0mKeyboardInterrupt\u001b[0m\u001b[0;34m(\u001b[0m\u001b[0;34m\"Interrupted by user\"\u001b[0m\u001b[0;34m)\u001b[0m \u001b[0;32mfrom\u001b[0m \u001b[0;32mNone\u001b[0m\u001b[0;34m\u001b[0m\u001b[0;34m\u001b[0m\u001b[0m\n\u001b[0m\u001b[1;32m    896\u001b[0m             \u001b[0;32mexcept\u001b[0m \u001b[0mException\u001b[0m \u001b[0;32mas\u001b[0m \u001b[0me\u001b[0m\u001b[0;34m:\u001b[0m\u001b[0;34m\u001b[0m\u001b[0;34m\u001b[0m\u001b[0m\n\u001b[1;32m    897\u001b[0m                 \u001b[0mself\u001b[0m\u001b[0;34m.\u001b[0m\u001b[0mlog\u001b[0m\u001b[0;34m.\u001b[0m\u001b[0mwarning\u001b[0m\u001b[0;34m(\u001b[0m\u001b[0;34m\"Invalid Message:\"\u001b[0m\u001b[0;34m,\u001b[0m \u001b[0mexc_info\u001b[0m\u001b[0;34m=\u001b[0m\u001b[0;32mTrue\u001b[0m\u001b[0;34m)\u001b[0m\u001b[0;34m\u001b[0m\u001b[0;34m\u001b[0m\u001b[0m\n",
            "\u001b[0;31mKeyboardInterrupt\u001b[0m: Interrupted by user"
          ]
        }
      ]
    },
    {
      "cell_type": "code",
      "source": [],
      "metadata": {
        "id": "Eof20N0yxrJK"
      },
      "execution_count": null,
      "outputs": []
    }
  ]
}